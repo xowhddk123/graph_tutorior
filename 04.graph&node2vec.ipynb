{
 "cells": [
  {
   "cell_type": "markdown",
   "metadata": {},
   "source": [
    "# GRAPH & NODE2VEC\n",
    "\n",
    "1. Node2Vec 기반 Similarity Recommendation\n",
    "2. H&M 데이터셋으로 추천시스템을 직접 구축해 봅시다.\n",
    "\n"
   ]
  },
  {
   "cell_type": "code",
   "execution_count": 1,
   "metadata": {},
   "outputs": [],
   "source": [
    "# 필요한 모든 라이브러리 임포트\n",
    "\n",
    "import numpy as np\n",
    "import pandas as pd\n",
    "import seaborn as sns\n",
    "from matplotlib import pyplot as plt\n",
    "import networkx as nx\n",
    "from gensim.models import Word2Vec\n",
    "from sklearn.metrics.pairwise import cosine_similarity\n",
    "import matplotlib.image as mpimg\n",
    "import random"
   ]
  },
  {
   "cell_type": "markdown",
   "metadata": {},
   "source": [
    "H&M Personalized Fashion Recommendations 데이터셋은, Kaggle에서 2023년 3월 15일 ~ 6월 14일 동안 진행된 대회 데이터셋이랍니다.   \n",
    "이번에 사용할 데이터셋은 그 중에서도 transactions와 articles, images 3개에요.  \n",
    "transactions 데이터셋에는 유저가 아이템을 구매한 기록이 담겨 있고, articles에는 아이템 정보가 담겨 있어요.   \n",
    "images에는 아이템 상품의 이미지가 저장되어 있습니다.\n",
    "\n",
    "data link : https://www.kaggle.com/competitions/h-and-m-personalized-fashion-recommendations/data"
   ]
  },
  {
   "cell_type": "code",
   "execution_count": 3,
   "metadata": {},
   "outputs": [],
   "source": [
    "# H&M 데이터셋 로드\n",
    "folder_path = \"data/\"\n",
    "articles_path = folder_path + \"articles.csv\"\n",
    "transactions_path = folder_path + \"transactions_train.csv\"\n",
    "\n",
    "articles = pd.read_csv(articles_path)\n",
    "transactions = pd.read_csv(transactions_path)"
   ]
  },
  {
   "cell_type": "markdown",
   "metadata": {},
   "source": [
    "## Data Preprocessing\n",
    "\n",
    "- sparse함을 최대한 줄이기 위해 유의미한 row들만 남긴다. \n",
    "- article_id와 customer_id를 빈도별로 계산하고 구매한 기록이 많은 유저와 구매된 기록이 많은 제품만을 고려해 필터링"
   ]
  },
  {
   "cell_type": "code",
   "execution_count": 5,
   "metadata": {},
   "outputs": [],
   "source": [
    "# 아이템과 사용자에 대한 빈도를 계산합니다.\n",
    "item_freq = transactions.groupby(\n",
    "    'article_id')['customer_id'].nunique()  # 아이템별로 몇 명의 고객이 구매했는지\n",
    "user_freq = transactions.groupby('customer_id')[\n",
    "    'article_id'].nunique()  # 사용자별로 몇 개의 아이템을 구매했는지\n",
    "\n",
    "# 빈도가 100회 이상인 아이템과 사용자만 선택합니다.\n",
    "items = item_freq[item_freq >= 100].index\n",
    "users = user_freq[user_freq >= 100].index\n",
    "\n",
    "# 선택된 아이템과 사용자에 해당하는 행만 남깁니다.\n",
    "filtered_df = transactions[transactions['article_id'].isin(\n",
    "    items) & transactions['customer_id'].isin(users)]"
   ]
  },
  {
   "cell_type": "markdown",
   "metadata": {},
   "source": [
    "## Edge Weight"
   ]
  },
  {
   "cell_type": "code",
   "execution_count": 13,
   "metadata": {},
   "outputs": [],
   "source": [
    "# weight 추가를 위한 집계\n",
    "# 'customer_id'와 'article_id' 쌍별로 등장하는 빈도를 계산합니다.\n",
    "freq = filtered_df.groupby(\n",
    "    ['customer_id', 'article_id']).size().reset_index(name='frequency')\n",
    "\n",
    "# 'frequency' column을 추가합니다.\n",
    "GraphTravel_HM = filtered_df.merge(\n",
    "    freq, on=['customer_id', 'article_id'], how='left')\n",
    "\n",
    "# 'frequency'가 10 이상인 행만 df에 남깁니다.\n",
    "GraphTravel_HM = GraphTravel_HM[GraphTravel_HM['frequency'] >= 10]"
   ]
  },
  {
   "cell_type": "code",
   "execution_count": 14,
   "metadata": {},
   "outputs": [
    {
     "data": {
      "text/html": [
       "<div>\n",
       "<style scoped>\n",
       "    .dataframe tbody tr th:only-of-type {\n",
       "        vertical-align: middle;\n",
       "    }\n",
       "\n",
       "    .dataframe tbody tr th {\n",
       "        vertical-align: top;\n",
       "    }\n",
       "\n",
       "    .dataframe thead th {\n",
       "        text-align: right;\n",
       "    }\n",
       "</style>\n",
       "<table border=\"1\" class=\"dataframe\">\n",
       "  <thead>\n",
       "    <tr style=\"text-align: right;\">\n",
       "      <th></th>\n",
       "      <th>t_dat</th>\n",
       "      <th>customer_id</th>\n",
       "      <th>article_id</th>\n",
       "      <th>price</th>\n",
       "      <th>sales_channel_id</th>\n",
       "      <th>frequency</th>\n",
       "    </tr>\n",
       "  </thead>\n",
       "  <tbody>\n",
       "    <tr>\n",
       "      <th>194</th>\n",
       "      <td>2018-09-20</td>\n",
       "      <td>06636eaa476a2f3417e8d11905e17a8066b4c9ae26bc78...</td>\n",
       "      <td>399201022</td>\n",
       "      <td>0.059305</td>\n",
       "      <td>2</td>\n",
       "      <td>12</td>\n",
       "    </tr>\n",
       "    <tr>\n",
       "      <th>195</th>\n",
       "      <td>2018-09-20</td>\n",
       "      <td>06636eaa476a2f3417e8d11905e17a8066b4c9ae26bc78...</td>\n",
       "      <td>399201022</td>\n",
       "      <td>0.059305</td>\n",
       "      <td>2</td>\n",
       "      <td>12</td>\n",
       "    </tr>\n",
       "    <tr>\n",
       "      <th>196</th>\n",
       "      <td>2018-09-20</td>\n",
       "      <td>06636eaa476a2f3417e8d11905e17a8066b4c9ae26bc78...</td>\n",
       "      <td>399201022</td>\n",
       "      <td>0.059305</td>\n",
       "      <td>2</td>\n",
       "      <td>12</td>\n",
       "    </tr>\n",
       "    <tr>\n",
       "      <th>1181</th>\n",
       "      <td>2018-09-20</td>\n",
       "      <td>1f58e8b3be25c4ca4bb457902f911cfbd4ed3a3f502685...</td>\n",
       "      <td>228257001</td>\n",
       "      <td>0.006763</td>\n",
       "      <td>2</td>\n",
       "      <td>19</td>\n",
       "    </tr>\n",
       "    <tr>\n",
       "      <th>1182</th>\n",
       "      <td>2018-09-20</td>\n",
       "      <td>1f58e8b3be25c4ca4bb457902f911cfbd4ed3a3f502685...</td>\n",
       "      <td>228257001</td>\n",
       "      <td>0.006797</td>\n",
       "      <td>2</td>\n",
       "      <td>19</td>\n",
       "    </tr>\n",
       "    <tr>\n",
       "      <th>...</th>\n",
       "      <td>...</td>\n",
       "      <td>...</td>\n",
       "      <td>...</td>\n",
       "      <td>...</td>\n",
       "      <td>...</td>\n",
       "      <td>...</td>\n",
       "    </tr>\n",
       "    <tr>\n",
       "      <th>6998469</th>\n",
       "      <td>2020-09-22</td>\n",
       "      <td>03fdb0bf2d9ff8ba23e1b4aef53709119aad5bc83691d8...</td>\n",
       "      <td>554450043</td>\n",
       "      <td>0.033881</td>\n",
       "      <td>2</td>\n",
       "      <td>18</td>\n",
       "    </tr>\n",
       "    <tr>\n",
       "      <th>6998949</th>\n",
       "      <td>2020-09-22</td>\n",
       "      <td>189a65461f77ed2d1621bb1201e68c4af1cfacf110d08e...</td>\n",
       "      <td>160442010</td>\n",
       "      <td>0.012898</td>\n",
       "      <td>2</td>\n",
       "      <td>11</td>\n",
       "    </tr>\n",
       "    <tr>\n",
       "      <th>6998950</th>\n",
       "      <td>2020-09-22</td>\n",
       "      <td>189a65461f77ed2d1621bb1201e68c4af1cfacf110d08e...</td>\n",
       "      <td>160442010</td>\n",
       "      <td>0.012915</td>\n",
       "      <td>2</td>\n",
       "      <td>11</td>\n",
       "    </tr>\n",
       "    <tr>\n",
       "      <th>6998951</th>\n",
       "      <td>2020-09-22</td>\n",
       "      <td>189a65461f77ed2d1621bb1201e68c4af1cfacf110d08e...</td>\n",
       "      <td>160442010</td>\n",
       "      <td>0.012898</td>\n",
       "      <td>2</td>\n",
       "      <td>11</td>\n",
       "    </tr>\n",
       "    <tr>\n",
       "      <th>7002790</th>\n",
       "      <td>2020-09-22</td>\n",
       "      <td>cb81d5c319424e49ce6d69df02f7003341a22a5e94c2b7...</td>\n",
       "      <td>685816002</td>\n",
       "      <td>0.008458</td>\n",
       "      <td>1</td>\n",
       "      <td>13</td>\n",
       "    </tr>\n",
       "  </tbody>\n",
       "</table>\n",
       "<p>20504 rows × 6 columns</p>\n",
       "</div>"
      ],
      "text/plain": [
       "              t_dat                                        customer_id  \\\n",
       "194      2018-09-20  06636eaa476a2f3417e8d11905e17a8066b4c9ae26bc78...   \n",
       "195      2018-09-20  06636eaa476a2f3417e8d11905e17a8066b4c9ae26bc78...   \n",
       "196      2018-09-20  06636eaa476a2f3417e8d11905e17a8066b4c9ae26bc78...   \n",
       "1181     2018-09-20  1f58e8b3be25c4ca4bb457902f911cfbd4ed3a3f502685...   \n",
       "1182     2018-09-20  1f58e8b3be25c4ca4bb457902f911cfbd4ed3a3f502685...   \n",
       "...             ...                                                ...   \n",
       "6998469  2020-09-22  03fdb0bf2d9ff8ba23e1b4aef53709119aad5bc83691d8...   \n",
       "6998949  2020-09-22  189a65461f77ed2d1621bb1201e68c4af1cfacf110d08e...   \n",
       "6998950  2020-09-22  189a65461f77ed2d1621bb1201e68c4af1cfacf110d08e...   \n",
       "6998951  2020-09-22  189a65461f77ed2d1621bb1201e68c4af1cfacf110d08e...   \n",
       "7002790  2020-09-22  cb81d5c319424e49ce6d69df02f7003341a22a5e94c2b7...   \n",
       "\n",
       "         article_id     price  sales_channel_id  frequency  \n",
       "194       399201022  0.059305                 2         12  \n",
       "195       399201022  0.059305                 2         12  \n",
       "196       399201022  0.059305                 2         12  \n",
       "1181      228257001  0.006763                 2         19  \n",
       "1182      228257001  0.006797                 2         19  \n",
       "...             ...       ...               ...        ...  \n",
       "6998469   554450043  0.033881                 2         18  \n",
       "6998949   160442010  0.012898                 2         11  \n",
       "6998950   160442010  0.012915                 2         11  \n",
       "6998951   160442010  0.012898                 2         11  \n",
       "7002790   685816002  0.008458                 1         13  \n",
       "\n",
       "[20504 rows x 6 columns]"
      ]
     },
     "metadata": {},
     "output_type": "display_data"
    },
    {
     "name": "stdout",
     "output_type": "stream",
     "text": [
      "unique customer_id 1013\n",
      "unique article_id 922\n"
     ]
    }
   ],
   "source": [
    "display(GraphTravel_HM)\n",
    "\n",
    "print(\"unique customer_id\", GraphTravel_HM.customer_id.nunique())\n",
    "print(\"unique article_id\", GraphTravel_HM.article_id.nunique())"
   ]
  },
  {
   "cell_type": "code",
   "execution_count": 15,
   "metadata": {},
   "outputs": [
    {
     "name": "stderr",
     "output_type": "stream",
     "text": [
      "/var/folders/d8/hf3bvhxj15d7kf2qjl67237c0000gn/T/ipykernel_92332/1066616564.py:2: UserWarning: \n",
      "\n",
      "`distplot` is a deprecated function and will be removed in seaborn v0.14.0.\n",
      "\n",
      "Please adapt your code to use either `displot` (a figure-level function with\n",
      "similar flexibility) or `histplot` (an axes-level function for histograms).\n",
      "\n",
      "For a guide to updating your code to use the new functions, please see\n",
      "https://gist.github.com/mwaskom/de44147ed2974457ad6372750bbe5751\n",
      "\n",
      "  sns.distplot(GraphTravel_HM['frequency'], kde=True, bins=30)\n"
     ]
    },
    {
     "data": {
      "image/png": "[encoded data removed]",
      "text/plain": [
       "<Figure size 640x480 with 1 Axes>"
      ]
     },
     "metadata": {},
     "output_type": "display_data"
    }
   ],
   "source": [
    "# frequency column의 히스토그램 및 KDE 그래프를 그립니다.\n",
    "sns.distplot(GraphTravel_HM[\"frequency\"], kde=True, bins=30)\n",
    "\n",
    "plt.title(\"Distribution of frequency\")\n",
    "plt.xlabel(\"Frequency\")\n",
    "plt.ylabel(\"Density\")\n",
    "\n",
    "plt.show()"
   ]
  },
  {
   "cell_type": "code",
   "execution_count": 18,
   "metadata": {},
   "outputs": [],
   "source": [
    "# 해시값인 customer_id 정수 매핑\n",
    "unique_customer_ids = GraphTravel_HM['customer_id'].unique()\n",
    "customer_id_mapping = {id: i for i, id in enumerate(unique_customer_ids)}\n",
    "GraphTravel_HM['customer_id'] = GraphTravel_HM['customer_id'].map(\n",
    "    customer_id_mapping)\n",
    "\n",
    "# article_id를 prod_name에 매핑하는 dictionary를 생성\n",
    "item_name_mapping = dict(\n",
    "    zip(articles['article_id'], articles['prod_name']))  # prod_name"
   ]
  },
  {
   "cell_type": "markdown",
   "metadata": {},
   "source": [
    "## Make Graph"
   ]
  },
  {
   "cell_type": "code",
   "execution_count": 24,
   "metadata": {},
   "outputs": [],
   "source": [
    "# 그래프 초기화\n",
    "G = nx.Graph()\n",
    "\n",
    "# 노드와 엣지를 추가\n",
    "for index, row in GraphTravel_HM.iterrows():\n",
    "    G.add_node(row['customer_id'], type='user')\n",
    "    G.add_node(row['article_id'], type='item')\n",
    "\n",
    "    # 'customer_id'와 'article_id' 사이에 가중치가 'frequency'인 엣지를 추가\n",
    "    G.add_edge(row['customer_id'], row['article_id'], weight=row['frequency'])\n",
    "\n",
    "# biased random walk 코드\n",
    "\n",
    "\n",
    "def biased_random_walk(G, start_node, walk_length, p=1, q=1):\n",
    "    walk = [start_node]\n",
    "\n",
    "    while len(walk) < walk_length:\n",
    "        cur_node = walk[-1]\n",
    "        cur_neighbors = list(G.neighbors(cur_node))\n",
    "\n",
    "        if len(cur_neighbors) > 0:\n",
    "            if len(walk) == 1:\n",
    "                walk.append(random.choice(cur_neighbors))\n",
    "            else:\n",
    "                prev_node = walk[-2]\n",
    "\n",
    "                probability = []\n",
    "                for neighbor in cur_neighbors:\n",
    "                    if neighbor == prev_node:\n",
    "                        # Return parameter : 방문한 적 있는 노드로 돌아갈 확률 제어\n",
    "                        probability.append(1/p)\n",
    "                    elif G.has_edge(neighbor, prev_node):\n",
    "                        # Stay parameter : 타겟 노드의 이웃 노드로 이동할 확률 1\n",
    "                        probability.append(1)\n",
    "                    else:\n",
    "                        # In-out parameter : 타겟 노드의 이웃이 아닌 노드로 이동할 확률 제어\n",
    "                        probability.append(1/q)\n",
    "\n",
    "                probability = np.array(probability)\n",
    "                probability = probability / probability.sum()  # normalize\n",
    "\n",
    "                next_node = np.random.choice(cur_neighbors, p=probability)\n",
    "                walk.append(next_node)\n",
    "        else:\n",
    "            break\n",
    "\n",
    "    return walk\n",
    "\n",
    "\n",
    "def generate_walks(G, num_walks, walk_length, p=1, q=1):\n",
    "    walks = []\n",
    "    nodes = list(G.nodes())\n",
    "    for _ in range(num_walks):\n",
    "        random.shuffle(nodes)  # to ensure randomness\n",
    "        for node in nodes:\n",
    "            walk_from_node = biased_random_walk(G, node, walk_length, p, q)\n",
    "            walks.append(walk_from_node)\n",
    "    return walks"
   ]
  },
  {
   "cell_type": "code",
   "execution_count": 25,
   "metadata": {},
   "outputs": [],
   "source": [
    "# Random Walk 생성\n",
    "walks = generate_walks(G, num_walks=10, walk_length=20, p=9, q=1)\n",
    "\n",
    "# walks는 random walk 결과를 담은 리스트라고 가정\n",
    "filtered_walks = [walk for walk in walks if len(walk) >= 5]\n",
    "\n",
    "# String 형태로 변환 (Word2Vec 입력을 위해)\n",
    "walks = [[str(node) for node in walk] for walk in walks]\n",
    "\n",
    "# Word2Vec 학습\n",
    "model = Word2Vec(walks, vector_size=128, window=5,\n",
    "                 min_count=0,  hs=1, sg=1, workers=4, epochs=10)\n",
    "\n",
    "# 노드 임베딩 추출\n",
    "embeddings = {node_id: model.wv[node_id] for node_id in model.wv.index_to_key}"
   ]
  },
  {
   "cell_type": "markdown",
   "metadata": {},
   "source": [
    "## Node2Vec Recommendation "
   ]
  },
  {
   "cell_type": "code",
   "execution_count": 26,
   "metadata": {},
   "outputs": [],
   "source": [
    "def get_user_embedding(user_id, embeddings):\n",
    "    '''\n",
    "    유저 node의 embedding을 반환\n",
    "    '''\n",
    "    return embeddings[str(user_id)]\n",
    "\n",
    "def get_rated_items(user_id, df):\n",
    "    '''\n",
    "    유저가 이미 평가한 아이템 리스트를 반환합니다. \n",
    "    이 정보는 이미 구매한 아이템을 추천에서 제외하기위해 사용\n",
    "    '''\n",
    "    return set(df[df['customer_id'] == user_id]['article_id'])\n",
    "\n",
    "\n",
    "def calculate_similarities(user_id, df, embeddings):\n",
    "    '''\n",
    "    모든 유저와 모든 아이템 간의 유사도를 계산 \n",
    "    '''\n",
    "    rated_items = get_rated_items(user_id, df)\n",
    "    user_embedding = get_user_embedding(user_id, embeddings)\n",
    "\n",
    "    item_similarities = []\n",
    "    for item_id in set(df['article_id']):\n",
    "        if item_id not in rated_items:  # 이미 구매한 제품은 제외\n",
    "            item_embedding = embeddings[str(item_id)]\n",
    "            similarity = cosine_similarity([user_embedding], [item_embedding])[0][0]\n",
    "            item_similarities.append((item_id, similarity))\n",
    "\n",
    "    return item_similarities\n",
    "\n",
    "\n",
    "def show_images(items, item_name_mapping, num_items, show_similarity=False):\n",
    "    # True로 설정되면, 아이템의 similarity score도 함께 출력됩니다!\n",
    "    f, ax = plt.subplots(1, num_items, figsize=(20,10))\n",
    "    if num_items == 1:\n",
    "        ax = [ax]\n",
    "    for i, item in enumerate(items):\n",
    "        item_id, similarity = item\n",
    "        print(f\"- Item {item_id}: {item_name_mapping[item_id]}\", end='')\n",
    "        if show_similarity:\n",
    "            print(f\" with similarity score: {similarity}\")\n",
    "        else:\n",
    "            print()\n",
    "        img_path = f\"../input/h-and-m-personalized-fashion-recommendations/images/0{str(item_id)[:2]}/0{int(item_id)}.jpg\"\n",
    "        try:\n",
    "            img = mpimg.imread(img_path)\n",
    "            ax[i].imshow(img)\n",
    "            ax[i].set_title(f'Item {item_id}')\n",
    "            ax[i].set_xticks([], [])\n",
    "            ax[i].set_yticks([], [])\n",
    "            ax[i].grid(False)\n",
    "        except FileNotFoundError:\n",
    "            print(f\"Image for item {item_id} not found.\")\n",
    "    plt.show()\n",
    "    \n",
    "def recommend_items(user_id, df, embeddings, item_name_mapping, num_items=5):\n",
    "    # 사용자가 이미 구매한 제품 찾기\n",
    "    rated_items = get_rated_items(user_id, df)\n",
    "    \n",
    "    # 사용자가 구매한 아이템의 이미지 출력\n",
    "    print(f\"User {user_id} has purchased:\")\n",
    "    show_images([(item_id, 0) for item_id in list(rated_items)[:5]], item_name_mapping, min(len(rated_items), 5))\n",
    "    \n",
    "    # 각 아이템 노드에 대한 유사도를 계산\n",
    "    item_similarities = calculate_similarities(user_id, df, embeddings)\n",
    "\n",
    "    # 유사도가 가장 높은 아이템들을 추천\n",
    "    recommended_items = sorted(item_similarities, key=lambda x: x[1], reverse=True)[:num_items]\n",
    "\n",
    "    print(f\"\\nRecommended items for user {user_id}:\")\n",
    "    show_images(recommended_items, item_name_mapping, num_items, show_similarity=True)\n"
   ]
  },
  {
   "cell_type": "code",
   "execution_count": 27,
   "metadata": {},
   "outputs": [
    {
     "name": "stdout",
     "output_type": "stream",
     "text": [
      "User 45 has purchased:\n",
      "- Item 598811011: Dingo tank\n",
      "Image for item 598811011 not found.\n",
      "- Item 189616006: Heavy jsy long leg\n",
      "Image for item 189616006 not found.\n",
      "- Item 598517002: SANDY shorts\n",
      "Image for item 598517002 not found.\n",
      "- Item 633808016: Terrier tee TOP PRODUCT\n",
      "Image for item 633808016 not found.\n",
      "- Item 443696021: BO basic OH BB\n",
      "Image for item 443696021 not found.\n"
     ]
    },
    {
     "data": {
      "image/png": "[encoded data removed]",
      "text/plain": [
       "<Figure size 2000x1000 with 5 Axes>"
      ]
     },
     "metadata": {},
     "output_type": "display_data"
    },
    {
     "name": "stdout",
     "output_type": "stream",
     "text": [
      "\n",
      "Recommended items for user 45:\n",
      "- Item 568597022: Hayes slim with similarity score: 0.8263711929321289\n",
      "Image for item 568597022 not found.\n",
      "- Item 816563002: Drizzle with similarity score: 0.7207537889480591\n",
      "Image for item 816563002 not found.\n",
      "- Item 477107015: Ellen Bikini Clover Mid 3p with similarity score: 0.7128282189369202\n",
      "Image for item 477107015 not found.\n",
      "- Item 403448008: GREG tanktop BB 2-p with similarity score: 0.7046922445297241\n",
      "Image for item 403448008 not found.\n",
      "- Item 403448010: GREG tanktop BB 2-p with similarity score: 0.7041707038879395\n",
      "Image for item 403448010 not found.\n"
     ]
    },
    {
     "data": {
      "image/png": "[encoded data removed]",
      "text/plain": [
       "<Figure size 2000x1000 with 5 Axes>"
      ]
     },
     "metadata": {},
     "output_type": "display_data"
    }
   ],
   "source": [
    "recommend_items(45, GraphTravel_HM, embeddings, item_name_mapping, num_items=5)"
   ]
  },
  {
   "cell_type": "code",
   "execution_count": null,
   "metadata": {},
   "outputs": [],
   "source": []
  },
  {
   "cell_type": "code",
   "execution_count": null,
   "metadata": {},
   "outputs": [],
   "source": []
  },
  {
   "cell_type": "code",
   "execution_count": null,
   "metadata": {},
   "outputs": [],
   "source": []
  },
  {
   "cell_type": "code",
   "execution_count": null,
   "metadata": {},
   "outputs": [],
   "source": []
  },
  {
   "cell_type": "code",
   "execution_count": null,
   "metadata": {},
   "outputs": [],
   "source": []
  },
  {
   "cell_type": "code",
   "execution_count": null,
   "metadata": {},
   "outputs": [],
   "source": []
  },
  {
   "cell_type": "code",
   "execution_count": null,
   "metadata": {},
   "outputs": [],
   "source": []
  }
 ],
 "metadata": {
  "kernelspec": {
   "display_name": "base311",
   "language": "python",
   "name": "python3"
  },
  "language_info": {
   "codemirror_mode": {
    "name": "ipython",
    "version": 3
   },
   "file_extension": ".py",
   "mimetype": "text/x-python",
   "name": "python",
   "nbconvert_exporter": "python",
   "pygments_lexer": "ipython3",
   "version": "3.11.5"
  }
 },
 "nbformat": 4,
 "nbformat_minor": 2
}
